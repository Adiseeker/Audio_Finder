{
 "cells": [
  {
   "cell_type": "markdown",
   "metadata": {},
   "source": [
    "# Nazwa Twojej aplikacji"
   ]
  },
  {
   "cell_type": "markdown",
   "metadata": {},
   "source": [
    "## Specyfikacja / Specs\n",
    "\n",
    "* co może robić użytkownik\n",
    "* jakie są dane wejściowe\n",
    "* jakie są podsawowe funkcje"
   ]
  },
  {
   "cell_type": "markdown",
   "metadata": {},
   "source": [
    "## Architektura\n",
    "\n",
    "Tutaj wklej rysunek architektury aplikacji (możesz użyć `excalidraw`)"
   ]
  },
  {
   "cell_type": "markdown",
   "metadata": {},
   "source": [
    "## Plan / Taski\n",
    "* v1 - co robić w pierwszej wersji\n",
    "* v2 - co robić w drugiej wersji\n",
    "* ..."
   ]
  },
  {
   "cell_type": "markdown",
   "metadata": {},
   "source": [
    "## Zależności\n",
    "* `streamlit` - do budowy interfejsu użytkownika.\n",
    "* `openai` i modelu `gpt-4o` - do generowania opisu zdjęcia.\n",
    "* `dotenv` - do przechowywania klucza openai.\n",
    "* ..."
   ]
  },
  {
   "cell_type": "markdown",
   "metadata": {},
   "source": [
    "## Instalujemy wymagane biblioteki (conda wymagana)\n",
    "\n",
    "- otwórz terminal\n",
    "- uruchom `conda activate od_zera_do_ai`\n",
    "- uruchom `conda config --append channels conda-forge`\n",
    "- uruchom `conda install -y streamlit openai==1.47.0 python-dotenv`"
   ]
  }
 ],
 "metadata": {
  "kernelspec": {
   "display_name": "Python 3 (ipykernel)",
   "language": "python",
   "name": "python3"
  },
  "language_info": {
   "codemirror_mode": {
    "name": "ipython",
    "version": 3
   },
   "file_extension": ".py",
   "mimetype": "text/x-python",
   "name": "python",
   "nbconvert_exporter": "python",
   "pygments_lexer": "ipython3",
   "version": "3.11.9"
  }
 },
 "nbformat": 4,
 "nbformat_minor": 4
}
