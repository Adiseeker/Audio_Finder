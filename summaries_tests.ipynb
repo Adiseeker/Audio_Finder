{
 "cells": [
  {
   "cell_type": "code",
   "execution_count": 13,
   "id": "58cbcc4f-7964-4e5e-8f24-eba412eed037",
   "metadata": {},
   "outputs": [
    {
     "name": "stderr",
     "output_type": "stream",
     "text": [
      "[nltk_data] Downloading package punkt to\n",
      "[nltk_data]     C:\\Users\\G\\AppData\\Roaming\\nltk_data...\n",
      "[nltk_data]   Package punkt is already up-to-date!\n"
     ]
    }
   ],
   "source": [
    "import os\n",
    "import re\n",
    "import pandas as pd\n",
    "from nltk.translate.bleu_score import sentence_bleu\n",
    "from rouge_score import rouge_scorer\n",
    "from bert_score import score\n",
    "from nltk.translate.meteor_score import meteor_score\n",
    "import nltk\n",
    "\n",
    "nltk.download('punkt')\n",
    "\n",
    "def preprocess_text(text):\n",
    "    \"\"\"Usuwa formatowanie Markdown i inne niepotrzebne elementy.\"\"\"\n",
    "    text = re.sub(r'\\*\\*.*?\\*\\*', '', text)  # Usuwa pogrubienia w stylu Markdown\n",
    "    text = re.sub(r'\\d+\\.\\s', '', text)  # Usuwa numerowanie list\n",
    "    return text.strip()\n",
    "\n",
    "def calculate_bleu(reference_text, candidate_text):\n",
    "    \"\"\"Oblicza BLEU score między referencją a wygenerowanym tekstem.\"\"\"\n",
    "    reference = [reference_text.split()]  # Tokenizacja referencji\n",
    "    candidate = candidate_text.split()    # Tokenizacja podsumowania\n",
    "    return sentence_bleu(reference, candidate)\n",
    "\n",
    "def calculate_rouge(reference_text, candidate_text):\n",
    "    scorer = rouge_scorer.RougeScorer(['rouge1', 'rouge2', 'rougeL'], use_stemmer=True)\n",
    "    return scorer.score(reference_text, candidate_text)\n",
    "\n",
    "def calculate_bertscore(reference_text, candidate_text):\n",
    "    P, R, F1 = score([candidate_text], [reference_text], lang='en')\n",
    "    return {'precision': P.mean().item(), 'recall': R.mean().item(), 'f1': F1.mean().item()}\n",
    "\n",
    "def calculate_meteor(reference_text, candidate_text):\n",
    "    return meteor_score([reference_text], candidate_text)\n",
    "\n",
    "def process_files(csv_path):\n",
    "    file_pairs = pd.read_csv(csv_path)\n",
    "    if file_pairs.empty:\n",
    "        print(\"Plik CSV jest pusty!\")\n",
    "        return pd.DataFrame()  # Zwróć pusty DataFrame\n",
    "\n",
    "    metrics = []\n",
    "\n",
    "    for _, row in file_pairs.iterrows():\n",
    "        summary_path = os.path.normpath(row['summary_path'])\n",
    "        reference_path = os.path.normpath(row['reference_path'])\n",
    "\n",
    "        print(f\"Sprawdzanie ścieżek: {summary_path}, {reference_path}\")\n",
    "        if not os.path.exists(summary_path):\n",
    "            print(f\"Nie znaleziono pliku podsumowania: {summary_path}\")\n",
    "            continue\n",
    "        if not os.path.exists(reference_path):\n",
    "            print(f\"Nie znaleziono pliku referencyjnego: {reference_path}\")\n",
    "            continue\n",
    "\n",
    "        with open(summary_path, \"r\", encoding=\"utf-8\") as f:\n",
    "            candidate_text = preprocess_text(f.read().strip())\n",
    "        with open(reference_path, \"r\", encoding=\"utf-8\") as f:\n",
    "            reference_text = preprocess_text(f.read().strip())\n",
    "\n",
    "        if not candidate_text or not reference_text:\n",
    "            print(f\"Pusty plik: {summary_path} lub {reference_path}\")\n",
    "            continue\n",
    "\n",
    "        print(f\"Przetworzony tekst referencyjny: {reference_text[:100]}\")\n",
    "        print(f\"Przetworzony tekst podsumowania: {candidate_text[:100]}\")\n",
    "\n",
    "        # Tokenizacja tekstów\n",
    "        reference_tokens = reference_text.split()\n",
    "        candidate_tokens = candidate_text.split()\n",
    "\n",
    "        try:\n",
    "            bleu_score = calculate_bleu(reference_text, candidate_text)  # Tokenizacja w funkcji\n",
    "            rouge_scores = calculate_rouge(reference_text, candidate_text)  # Bez zmian\n",
    "            bertscore = calculate_bertscore(reference_text, candidate_text)  # Bez zmian\n",
    "            meteor_score_value = meteor_score([reference_tokens], candidate_tokens)  # Dodanie tokenizacji\n",
    "\n",
    "            metrics.append({\n",
    "                \"summary_path\": summary_path,\n",
    "                \"reference_path\": reference_path,\n",
    "                \"BLEU\": bleu_score,\n",
    "                \"ROUGE_1\": rouge_scores[\"rouge1\"].fmeasure,\n",
    "                \"ROUGE_2\": rouge_scores[\"rouge2\"].fmeasure,\n",
    "                \"ROUGE_L\": rouge_scores[\"rougeL\"].fmeasure,\n",
    "                \"BERTScore\": bertscore['f1'],\n",
    "                \"METEOR\": meteor_score_value\n",
    "            })\n",
    "        except Exception as e:\n",
    "            print(f\"Błąd podczas obliczania metryk dla {summary_path}: {e}\")\n",
    "\n",
    "    metrics_df = pd.DataFrame(metrics)\n",
    "\n",
    "    # Jeśli brak wyników, zwróć pusty DataFrame\n",
    "    if metrics_df.empty:\n",
    "        print(\"Brak wyników do zapisania!\")\n",
    "    \n",
    "    return metrics_df\n",
    "\n",
    "\n"
   ]
  },
  {
   "cell_type": "code",
   "execution_count": 14,
   "id": "5d7b5e0e-c7b1-42e2-8850-17430cd295b7",
   "metadata": {},
   "outputs": [
    {
     "name": "stdout",
     "output_type": "stream",
     "text": [
      "Sprawdzanie ścieżek: voiceapp\\output\\summaries_folder\\mistral_7b_20241208_213239\\CJG_01_2023_01_14-summary_1.txt, C:\\Users\\G\\Documents\\GitHub\\audycje.com.pl\\content\\audio\\CJG_01_2023_01_14.txt\n",
      "Przetworzony tekst referencyjny: ﻿1\n",
      "[music]\n",
      "What's going on, Mr. Mariusz?\n",
      "What did you hear again?\n",
      "I checked a few forecasts from the\n",
      "Przetworzony tekst podsumowania: : The text discusses the theme of knowledge and understanding, particularly in the domains of busine\n"
     ]
    },
    {
     "name": "stderr",
     "output_type": "stream",
     "text": [
      "D:\\anaconda3\\envs\\od_zera_do_ai\\Lib\\site-packages\\nltk\\translate\\bleu_score.py:577: UserWarning: \n",
      "The hypothesis contains 0 counts of 4-gram overlaps.\n",
      "Therefore the BLEU score evaluates to 0, independently of\n",
      "how many N-gram overlaps of lower order it contains.\n",
      "Consider using lower n-gram order or use SmoothingFunction()\n",
      "  warnings.warn(_msg)\n",
      "Some weights of RobertaModel were not initialized from the model checkpoint at roberta-large and are newly initialized: ['roberta.pooler.dense.bias', 'roberta.pooler.dense.weight']\n",
      "You should probably TRAIN this model on a down-stream task to be able to use it for predictions and inference.\n"
     ]
    },
    {
     "name": "stdout",
     "output_type": "stream",
     "text": [
      "Sprawdzanie ścieżek: voiceapp\\output\\summaries_folder\\mistral_7b_20241208_213239\\CJG_01_2023_01_14-summary_2.txt, C:\\Users\\G\\Documents\\GitHub\\audycje.com.pl\\content\\audio\\CJG_01_2023_01_14.txt\n",
      "Przetworzony tekst referencyjny: ﻿1\n",
      "[music]\n",
      "What's going on, Mr. Mariusz?\n",
      "What did you hear again?\n",
      "I checked a few forecasts from the\n",
      "Przetworzony tekst podsumowania: : The main themes of this text revolve around the speaker's personal insights into politics, economi\n"
     ]
    },
    {
     "name": "stderr",
     "output_type": "stream",
     "text": [
      "Some weights of RobertaModel were not initialized from the model checkpoint at roberta-large and are newly initialized: ['roberta.pooler.dense.bias', 'roberta.pooler.dense.weight']\n",
      "You should probably TRAIN this model on a down-stream task to be able to use it for predictions and inference.\n"
     ]
    },
    {
     "name": "stdout",
     "output_type": "stream",
     "text": [
      "Sprawdzanie ścieżek: voiceapp\\output\\summaries_folder\\mistral_7b_20241208_213239\\CJG_01_2023_01_14-summary_3.txt, C:\\Users\\G\\Documents\\GitHub\\audycje.com.pl\\content\\audio\\CJG_01_2023_01_14.txt\n",
      "Przetworzony tekst referencyjny: ﻿1\n",
      "[music]\n",
      "What's going on, Mr. Mariusz?\n",
      "What did you hear again?\n",
      "I checked a few forecasts from the\n",
      "Przetworzony tekst podsumowania: Key Themes: The key themes of this text revolve around personal insights from an economist and finan\n"
     ]
    },
    {
     "name": "stderr",
     "output_type": "stream",
     "text": [
      "Some weights of RobertaModel were not initialized from the model checkpoint at roberta-large and are newly initialized: ['roberta.pooler.dense.bias', 'roberta.pooler.dense.weight']\n",
      "You should probably TRAIN this model on a down-stream task to be able to use it for predictions and inference.\n"
     ]
    },
    {
     "name": "stdout",
     "output_type": "stream",
     "text": [
      "Sprawdzanie ścieżek: voiceapp\\output\\summaries_folder\\mistral_7b_20241208_213239\\CJG_01_2023_01_14-summary_4.txt, C:\\Users\\G\\Documents\\GitHub\\audycje.com.pl\\content\\audio\\CJG_01_2023_01_14.txt\n",
      "Przetworzony tekst referencyjny: ﻿1\n",
      "[music]\n",
      "What's going on, Mr. Mariusz?\n",
      "What did you hear again?\n",
      "I checked a few forecasts from the\n",
      "Przetworzony tekst podsumowania: : The main themes of this text revolve around financial literacy, political insights, and the hidden\n"
     ]
    },
    {
     "name": "stderr",
     "output_type": "stream",
     "text": [
      "Some weights of RobertaModel were not initialized from the model checkpoint at roberta-large and are newly initialized: ['roberta.pooler.dense.bias', 'roberta.pooler.dense.weight']\n",
      "You should probably TRAIN this model on a down-stream task to be able to use it for predictions and inference.\n"
     ]
    },
    {
     "name": "stdout",
     "output_type": "stream",
     "text": [
      "Sprawdzanie ścieżek: voiceapp\\output\\summaries_folder\\mistral_7b_20241208_213239\\CJG_01_2023_01_14-summary_5.txt, C:\\Users\\G\\Documents\\GitHub\\audycje.com.pl\\content\\audio\\CJG_01_2023_01_14.txt\n",
      "Przetworzony tekst referencyjny: ﻿1\n",
      "[music]\n",
      "What's going on, Mr. Mariusz?\n",
      "What did you hear again?\n",
      "I checked a few forecasts from the\n",
      "Przetworzony tekst podsumowania: Key Themes: The text primarily discusses themes of financial knowledge, politics, and understanding \n"
     ]
    },
    {
     "name": "stderr",
     "output_type": "stream",
     "text": [
      "Some weights of RobertaModel were not initialized from the model checkpoint at roberta-large and are newly initialized: ['roberta.pooler.dense.bias', 'roberta.pooler.dense.weight']\n",
      "You should probably TRAIN this model on a down-stream task to be able to use it for predictions and inference.\n"
     ]
    },
    {
     "name": "stdout",
     "output_type": "stream",
     "text": [
      "Sprawdzanie ścieżek: voiceapp\\output\\summaries_folder\\mistral_7b_20241208_213239\\CJG_02_2023_01_21-summary_1.txt, C:\\Users\\G\\Documents\\GitHub\\audycje.com.pl\\content\\audio\\CJG_02_2023_01_21.txt\n",
      "Przetworzony tekst referencyjny: ﻿1\n",
      "[MUSIC]\n",
      "What's going on Mr. Mariusz?\n",
      "What did you hear again?\n",
      "In Business Insider I read that 8 A\n",
      "Przetworzony tekst podsumowania: : The text discusses the state of the cinema industry, particularly focusing on the impact of large \n"
     ]
    },
    {
     "name": "stderr",
     "output_type": "stream",
     "text": [
      "Some weights of RobertaModel were not initialized from the model checkpoint at roberta-large and are newly initialized: ['roberta.pooler.dense.bias', 'roberta.pooler.dense.weight']\n",
      "You should probably TRAIN this model on a down-stream task to be able to use it for predictions and inference.\n"
     ]
    },
    {
     "name": "stdout",
     "output_type": "stream",
     "text": [
      "Sprawdzanie ścieżek: voiceapp\\output\\summaries_folder\\mistral_7b_20241208_213239\\CJG_02_2023_01_21-summary_2.txt, C:\\Users\\G\\Documents\\GitHub\\audycje.com.pl\\content\\audio\\CJG_02_2023_01_21.txt\n",
      "Przetworzony tekst referencyjny: ﻿1\n",
      "[MUSIC]\n",
      "What's going on Mr. Mariusz?\n",
      "What did you hear again?\n",
      "In Business Insider I read that 8 A\n",
      "Przetworzony tekst podsumowania: : The key themes of this text revolve around the impact of corporate culture, specifically in the en\n"
     ]
    },
    {
     "name": "stderr",
     "output_type": "stream",
     "text": [
      "Some weights of RobertaModel were not initialized from the model checkpoint at roberta-large and are newly initialized: ['roberta.pooler.dense.bias', 'roberta.pooler.dense.weight']\n",
      "You should probably TRAIN this model on a down-stream task to be able to use it for predictions and inference.\n"
     ]
    },
    {
     "name": "stdout",
     "output_type": "stream",
     "text": [
      "Sprawdzanie ścieżek: voiceapp\\output\\summaries_folder\\mistral_7b_20241208_213239\\CJG_02_2023_01_21-summary_3.txt, C:\\Users\\G\\Documents\\GitHub\\audycje.com.pl\\content\\audio\\CJG_02_2023_01_21.txt\n",
      "Przetworzony tekst referencyjny: ﻿1\n",
      "[MUSIC]\n",
      "What's going on Mr. Mariusz?\n",
      "What did you hear again?\n",
      "In Business Insider I read that 8 A\n",
      "Przetworzony tekst podsumowania: Key Themes: The main themes of this text revolve around the state of the cinema industry, specifical\n"
     ]
    },
    {
     "name": "stderr",
     "output_type": "stream",
     "text": [
      "Some weights of RobertaModel were not initialized from the model checkpoint at roberta-large and are newly initialized: ['roberta.pooler.dense.bias', 'roberta.pooler.dense.weight']\n",
      "You should probably TRAIN this model on a down-stream task to be able to use it for predictions and inference.\n"
     ]
    },
    {
     "name": "stdout",
     "output_type": "stream",
     "text": [
      "Sprawdzanie ścieżek: voiceapp\\output\\summaries_folder\\mistral_7b_20241208_213239\\CJG_02_2023_01_21-summary_4.txt, C:\\Users\\G\\Documents\\GitHub\\audycje.com.pl\\content\\audio\\CJG_02_2023_01_21.txt\n",
      "Przetworzony tekst referencyjny: ﻿1\n",
      "[MUSIC]\n",
      "What's going on Mr. Mariusz?\n",
      "What did you hear again?\n",
      "In Business Insider I read that 8 A\n",
      "Przetworzony tekst podsumowania: : The text discusses the current state of the film industry, specifically focusing on the impact of \n"
     ]
    },
    {
     "name": "stderr",
     "output_type": "stream",
     "text": [
      "Some weights of RobertaModel were not initialized from the model checkpoint at roberta-large and are newly initialized: ['roberta.pooler.dense.bias', 'roberta.pooler.dense.weight']\n",
      "You should probably TRAIN this model on a down-stream task to be able to use it for predictions and inference.\n"
     ]
    },
    {
     "name": "stdout",
     "output_type": "stream",
     "text": [
      "Sprawdzanie ścieżek: voiceapp\\output\\summaries_folder\\mistral_7b_20241208_213239\\CJG_02_2023_01_21-summary_5.txt, C:\\Users\\G\\Documents\\GitHub\\audycje.com.pl\\content\\audio\\CJG_02_2023_01_21.txt\n",
      "Przetworzony tekst referencyjny: ﻿1\n",
      "[MUSIC]\n",
      "What's going on Mr. Mariusz?\n",
      "What did you hear again?\n",
      "In Business Insider I read that 8 A\n",
      "Przetworzony tekst podsumowania: : The main themes of this text revolve around the economic, cultural, and social impacts of big corp\n"
     ]
    },
    {
     "name": "stderr",
     "output_type": "stream",
     "text": [
      "Some weights of RobertaModel were not initialized from the model checkpoint at roberta-large and are newly initialized: ['roberta.pooler.dense.bias', 'roberta.pooler.dense.weight']\n",
      "You should probably TRAIN this model on a down-stream task to be able to use it for predictions and inference.\n"
     ]
    },
    {
     "name": "stdout",
     "output_type": "stream",
     "text": [
      "Sprawdzanie ścieżek: voiceapp\\output\\summaries_folder\\mistral_7b_20241208_213239\\CJG_03_2023_01_28-summary_1.txt, C:\\Users\\G\\Documents\\GitHub\\audycje.com.pl\\content\\audio\\CJG_03_2023_01_28.txt\n",
      "Przetworzony tekst referencyjny: ﻿1\n",
      "[MUSIC]\n",
      "What's the deal, Mr. Mariusz?\n",
      "What did you hear there again?\n",
      "To be honest, I was inspired\n",
      "Przetworzony tekst podsumowania: : The main themes of the text revolve around the financial success and impact of large-scale product\n"
     ]
    },
    {
     "name": "stderr",
     "output_type": "stream",
     "text": [
      "Some weights of RobertaModel were not initialized from the model checkpoint at roberta-large and are newly initialized: ['roberta.pooler.dense.bias', 'roberta.pooler.dense.weight']\n",
      "You should probably TRAIN this model on a down-stream task to be able to use it for predictions and inference.\n"
     ]
    },
    {
     "name": "stdout",
     "output_type": "stream",
     "text": [
      "Sprawdzanie ścieżek: voiceapp\\output\\summaries_folder\\mistral_7b_20241208_213239\\CJG_03_2023_01_28-summary_2.txt, C:\\Users\\G\\Documents\\GitHub\\audycje.com.pl\\content\\audio\\CJG_03_2023_01_28.txt\n",
      "Przetworzony tekst referencyjny: ﻿1\n",
      "[MUSIC]\n",
      "What's the deal, Mr. Mariusz?\n",
      "What did you hear there again?\n",
      "To be honest, I was inspired\n",
      "Przetworzony tekst podsumowania: : The main themes discussed in the text revolve around the financial performance of TV series and mo\n"
     ]
    },
    {
     "name": "stderr",
     "output_type": "stream",
     "text": [
      "Some weights of RobertaModel were not initialized from the model checkpoint at roberta-large and are newly initialized: ['roberta.pooler.dense.bias', 'roberta.pooler.dense.weight']\n",
      "You should probably TRAIN this model on a down-stream task to be able to use it for predictions and inference.\n"
     ]
    },
    {
     "name": "stdout",
     "output_type": "stream",
     "text": [
      "Wyniki zapisane do wyniki_metryk.csv\n"
     ]
    }
   ],
   "source": [
    "\n",
    "# Uruchomienie programu\n",
    "if __name__ == \"__main__\":\n",
    "    csv_path = \"voiceapp/output/summaries_folder/summaries_list.csv\"\n",
    "    metrics_df = process_files(csv_path)\n",
    "    save_metrics_to_csv(metrics_df)"
   ]
  },
  {
   "cell_type": "code",
   "execution_count": 28,
   "id": "317b6e68-227a-4b11-880f-72350c5b52d7",
   "metadata": {},
   "outputs": [
    {
     "name": "stdout",
     "output_type": "stream",
     "text": [
      "['C:/Users/G/Documents/GitHub/audycje.com.pl/content/audio\\\\CJG_01_2023_01_14.mp3\\n', 'C:/Users/G/Documents/GitHub/audycje.com.pl/content/audio\\\\CJG_02_2023_01_21.mp3\\n', 'C:/Users/G/Documents/GitHub/audycje.com.pl/content/audio\\\\CJG_03_2023_01_28.mp3\\n', 'C:/Users/G/Documents/GitHub/audycje.com.pl/content/audio\\\\CJG_04_2023_02_04.mp3\\n', 'C:/Users/G/Documents/GitHub/audycje.com.pl/content/audio\\\\CJG_05_2023_02_11.mp3\\n', 'C:/Users/G/Documents/GitHub/audycje.com.pl/content/audio\\\\CJG_06_2023_02_18.mp3\\n']\n"
     ]
    }
   ],
   "source": [
    "with open(\"voiceapp/lista.txt\", \"r\") as f:\n",
    "    references = f.readlines()\n",
    "    print(references)"
   ]
  },
  {
   "cell_type": "code",
   "execution_count": null,
   "id": "1bacf963-70f8-40d2-8bcc-f6144b9fb54e",
   "metadata": {},
   "outputs": [],
   "source": []
  }
 ],
 "metadata": {
  "kernelspec": {
   "display_name": "my-conda-env-kernel",
   "language": "python",
   "name": "my-conda-env-kernel"
  },
  "language_info": {
   "codemirror_mode": {
    "name": "ipython",
    "version": 3
   },
   "file_extension": ".py",
   "mimetype": "text/x-python",
   "name": "python",
   "nbconvert_exporter": "python",
   "pygments_lexer": "ipython3",
   "version": "3.12.7"
  }
 },
 "nbformat": 4,
 "nbformat_minor": 5
}
